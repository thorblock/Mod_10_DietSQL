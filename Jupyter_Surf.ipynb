{
 "cells": [
  {
   "cell_type": "code",
   "execution_count": 1,
   "metadata": {},
   "outputs": [],
   "source": [
    "from matplotlib import style\n",
    "style.use('fivethirtyeight')\n",
    "import matplotlib.pyplot as plt"
   ]
  },
  {
   "cell_type": "code",
   "execution_count": 2,
   "metadata": {},
   "outputs": [],
   "source": [
    "import numpy as np\n",
    "import pandas as pd\n",
    "import datetime as dt"
   ]
  },
  {
   "cell_type": "markdown",
   "metadata": {},
   "source": [
    "# Reflect Tables into SQLAlchemy ORM"
   ]
  },
  {
   "cell_type": "code",
   "execution_count": 3,
   "metadata": {},
   "outputs": [],
   "source": [
    "# Python SQL toolkit and Object Relational Mapper\n",
    "import sqlalchemy\n",
    "from sqlalchemy.ext.automap import automap_base\n",
    "from sqlalchemy.orm import Session\n",
    "from sqlalchemy import create_engine, func"
   ]
  },
  {
   "cell_type": "code",
   "execution_count": 4,
   "metadata": {},
   "outputs": [],
   "source": [
    "# create engine to hawaii.sqlite\n",
    "engine = create_engine(\"sqlite:///Resources/hawaii.sqlite\")"
   ]
  },
  {
   "cell_type": "code",
   "execution_count": 5,
   "metadata": {},
   "outputs": [],
   "source": [
    "# reflect an existing database into a new model\n",
    "base = automap_base()\n",
    "# reflect the tables\n",
    "base.prepare(autoload_with=engine)"
   ]
  },
  {
   "cell_type": "code",
   "execution_count": 6,
   "metadata": {},
   "outputs": [
    {
     "name": "stdout",
     "output_type": "stream",
     "text": [
      "['station', 'measurement']\n"
     ]
    }
   ],
   "source": [
    "# classes that automap found\n",
    "print(base.classes.keys())"
   ]
  },
  {
   "cell_type": "code",
   "execution_count": 7,
   "metadata": {},
   "outputs": [],
   "source": [
    "# references to each table\n",
    "measurement = base.classes.measurement\n",
    "station = base.classes.station"
   ]
  },
  {
   "cell_type": "code",
   "execution_count": 8,
   "metadata": {},
   "outputs": [],
   "source": [
    "# session (link) from Python to the DB\n",
    "session = Session(engine)"
   ]
  },
  {
   "cell_type": "markdown",
   "metadata": {},
   "source": [
    "# Exploratory Precipitation Analysis"
   ]
  },
  {
   "cell_type": "code",
   "execution_count": 9,
   "metadata": {},
   "outputs": [
    {
     "data": {
      "text/plain": [
       "('2017-08-23',)"
      ]
     },
     "execution_count": 9,
     "metadata": {},
     "output_type": "execute_result"
    }
   ],
   "source": [
    "# the most recent date in the data set.\n",
    "last_obs = session.query(func.max(measurement.date)).first()\n",
    "last_obs"
   ]
  },
  {
   "cell_type": "code",
   "execution_count": 10,
   "metadata": {},
   "outputs": [
    {
     "data": {
      "image/png": "[encoded data removed]",
      "text/plain": [
       "<Figure size 640x480 with 1 Axes>"
      ]
     },
     "metadata": {},
     "output_type": "display_data"
    }
   ],
   "source": [
    "# get col names with sqlite viewer or use inspector ig\n",
    "# Design a query to retrieve the last 12 months of precipitation data and plot the results. \n",
    "# Starting from the most recent data point in the database. \n",
    "last_obs = dt.date(2017,8,23)\n",
    "# Calculate the date one year from the last date(last_obs) in data set.\n",
    "yr_pr_last_obs = last_obs - dt.timedelta(days=365)\n",
    "\n",
    "# Perform a query to retrieve the data and precipitation scores\n",
    "prcp_query = session.query(measurement.date, measurement.prcp).filter(measurement.date >= yr_pr_last_obs).all()\n",
    "\n",
    "# Save the query results as a Pandas DataFrame. Explicitly set the column names\n",
    "measure_df = pd.DataFrame(prcp_query).rename(columns = {'prcp': 'precipitation'})\n",
    "\n",
    "# Sort the dataframe by date\n",
    "measure_df['date']= pd.to_datetime(measure_df['date'], format = '%Y-%m-%d')\n",
    "measure_df = measure_df.sort_values(by = ['date'])\n",
    "\n",
    "# Matplotlib to plot the data\n",
    "plt.bar(measure_df['date'], measure_df['precipitation'], align='center', width=5.5)\n",
    "plt.title(\"Precipitation Bar Plot\")\n",
    "plt.xlabel(\"Date\")\n",
    "plt.xticks(rotation = 50, ha = \"center\")\n",
    "plt.ylabel(\"Inches\")\n",
    "\n",
    "# finished product plt.show\n",
    "plt.show()"
   ]
  },
  {
   "cell_type": "code",
   "execution_count": 11,
   "metadata": {},
   "outputs": [
    {
     "data": {
      "text/plain": [
       "count    2021.000000\n",
       "mean        0.177279\n",
       "std         0.461190\n",
       "min         0.000000\n",
       "25%         0.000000\n",
       "50%         0.020000\n",
       "75%         0.130000\n",
       "max         6.700000\n",
       "Name: precipitation, dtype: float64"
      ]
     },
     "execution_count": 11,
     "metadata": {},
     "output_type": "execute_result"
    }
   ],
   "source": [
    "# summary statistics for the precipitation data\n",
    "measure_df['precipitation'].describe()"
   ]
  },
  {
   "cell_type": "markdown",
   "metadata": {},
   "source": [
    "# Exploratory Station Analysis"
   ]
  },
  {
   "cell_type": "code",
   "execution_count": 12,
   "metadata": {},
   "outputs": [
    {
     "name": "stdout",
     "output_type": "stream",
     "text": [
      "Number of Stations:  9\n"
     ]
    }
   ],
   "source": [
    "# query to calculate the total number of stations in the dataset\n",
    "print(f'Number of Stations: ',len(session.query(station).all()))"
   ]
  },
  {
   "cell_type": "code",
   "execution_count": 13,
   "metadata": {},
   "outputs": [
    {
     "name": "stdout",
     "output_type": "stream",
     "text": [
      "Station ID: USC00519281, Frequency: 2772\n",
      "Station ID: USC00519397, Frequency: 2724\n",
      "Station ID: USC00513117, Frequency: 2709\n",
      "Station ID: USC00519523, Frequency: 2669\n",
      "Station ID: USC00516128, Frequency: 2612\n",
      "Station ID: USC00514830, Frequency: 2202\n",
      "Station ID: USC00511918, Frequency: 1979\n",
      "Station ID: USC00517948, Frequency: 1372\n",
      "Station ID: USC00518838, Frequency: 511\n"
     ]
    }
   ],
   "source": [
    "# List the stations and their counts in descending order.\n",
    "# unique_dict is no bueno, no easy way to sort dict by freq, \n",
    "# query station id's and det frequency of appearance\n",
    "stations_query = session.query(measurement.station, func.count(measurement.station).label('count')) \\\n",
    "    .group_by(measurement.station) \\\n",
    "    .order_by(func.count(measurement.station).desc())\n",
    "    \n",
    "for station, count in stations_query:\n",
    "    print(f\"Station ID: {station}, Frequency: {count}\")"
   ]
  },
  {
   "cell_type": "code",
   "execution_count": 14,
   "metadata": {},
   "outputs": [
    {
     "name": "stdout",
     "output_type": "stream",
     "text": [
      "Most active stations lowest temp, highest temp, and average temp:  [('USC00519281', 54.0, 85.0, 71.66378066378067)]\n"
     ]
    }
   ],
   "source": [
    "# Using the most active station id from the previous query, calculate the lowest, highest, and average temperature.\n",
    "most_active_station = stations_query[0][0]\n",
    "selection = [measurement.station, func.min(measurement.tobs), func.max(measurement.tobs), func.avg(measurement.tobs)]\n",
    "most_active_query = session.query(*selection).filter_by(station=most_active_station).all()\n",
    "\n",
    "print(f'Most active stations lowest temp, highest temp, and average temp: ', most_active_query)"
   ]
  },
  {
   "cell_type": "code",
   "execution_count": 15,
   "metadata": {},
   "outputs": [
    {
     "data": {
      "image/png": "[encoded data removed]",
      "text/plain": [
       "<Figure size 640x480 with 1 Axes>"
      ]
     },
     "metadata": {},
     "output_type": "display_data"
    }
   ],
   "source": [
    "# Using the most active station id\n",
    "# Query the last 12 months of temperature observation data for this station and plot the results as a histogram\n",
    "most_active_stn_yr = session.query(measurement.date, measurement.tobs).filter_by(station=most_active_station).filter(measurement.date >= yr_pr_last_obs).all()\n",
    "most_active_stn_yr_df = pd.DataFrame(most_active_stn_yr)\n",
    "\n",
    "plt.hist(most_active_stn_yr_df['tobs'], bins=12)\n",
    "plt.title(\"Temperature Histogram\")\n",
    "plt.xlabel(\"Temp\")\n",
    "plt.xticks(rotation = 50, ha = \"center\")\n",
    "plt.ylabel(\"Freq\")\n",
    "\n",
    "# finished product plt.show\n",
    "plt.show()"
   ]
  },
  {
   "cell_type": "markdown",
   "metadata": {},
   "source": [
    "# Close Session"
   ]
  },
  {
   "cell_type": "code",
   "execution_count": 23,
   "metadata": {},
   "outputs": [],
   "source": [
    "# Close Session\n",
    "session.close()"
   ]
  }
 ],
 "metadata": {
  "anaconda-cloud": {},
  "kernel_info": {
   "name": "python3"
  },
  "kernelspec": {
   "display_name": "Python 3 (ipykernel)",
   "language": "python",
   "name": "python3"
  },
  "language_info": {
   "codemirror_mode": {
    "name": "ipython",
    "version": 3
   },
   "file_extension": ".py",
   "mimetype": "text/x-python",
   "name": "python",
   "nbconvert_exporter": "python",
   "pygments_lexer": "ipython3",
   "version": "3.11.6"
  },
  "nteract": {
   "version": "0.12.3"
  },
  "varInspector": {
   "cols": {
    "lenName": 16,
    "lenType": 16,
    "lenVar": 40
   },
   "kernels_config": {
    "python": {
     "delete_cmd_postfix": "",
     "delete_cmd_prefix": "del ",
     "library": "var_list.py",
     "varRefreshCmd": "print(var_dic_list())"
    },
    "r": {
     "delete_cmd_postfix": ") ",
     "delete_cmd_prefix": "rm(",
     "library": "var_list.r",
     "varRefreshCmd": "cat(var_dic_list()) "
    }
   },
   "types_to_exclude": [
    "module",
    "function",
    "builtin_function_or_method",
    "instance",
    "_Feature"
   ],
   "window_display": false
  }
 },
 "nbformat": 4,
 "nbformat_minor": 2
}
